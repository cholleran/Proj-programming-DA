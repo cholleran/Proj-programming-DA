{
 "cells": [
  {
   "cell_type": "code",
   "execution_count": 1,
   "metadata": {},
   "outputs": [],
   "source": [
    "import matplotlib.pyplot as plt\n",
    "import numpy as np\n",
    "from numpy import random\n",
    "import pandas as pd\n",
    "import seaborn as sns\n",
    "\n"
   ]
  },
  {
   "cell_type": "markdown",
   "metadata": {},
   "source": [
    "### Simulation with Binomial Distribution\n",
    "\n",
    "A Binomial distribution is used here to simulate cancer tests in a population of 100,000.  It is suitable because it is a discrete distribution and uses Bernoulli trials, each of which has a true or false outcome. Discrete data is data which is counted, usually as whole integers, as opposed to continuous data which is measured on a scale [3][2].  The binomial function is appropriate for creating an artificial dataset to simulate cancer tests, since each cancer test also has a true or false outcome in real life. \n",
    "\n",
    "The numpy function below runs a single simulated cancer test (n) on each member of the sample population of 100,000 [8]. The probability (p) of a positive diagnosis is approximated using the average incidence of cancer in the U.S. between 2011–2015 from the National Cancer Institute.[7]. The histogram below shows the number of negative diagnoses at point zero on the x-axis and positive diagnoses at point 1.0."
   ]
  },
  {
   "cell_type": "code",
   "execution_count": 2,
   "metadata": {},
   "outputs": [
    {
     "name": "stdout",
     "output_type": "stream",
     "text": [
      "In this simulation, the total number of persons diagnosed with cancer in the sample population of 100,000 is 417.\n",
      "The remaining 99583 people tested negative for cancer.\n"
     ]
    },
    {
     "data": {
      "image/png": "[encoded data removed]",
      "text/plain": [
       "<Figure size 432x288 with 1 Axes>"
      ]
     },
     "metadata": {},
     "output_type": "display_data"
    }
   ],
   "source": [
    "avg_incidence = 439.2/10**5 # Average incidence new cancer diagnoses from the National Cancer Institute (U.S.)[7]\n",
    "n, p = 1, avg_incidence  # number of trials, probability of each trial\n",
    "sim = np.random.binomial(n, p, 100000) # The binomial function used for simulation.\n",
    "\n",
    "\n",
    "dataset = pd.DataFrame(sim)\n",
    "plt.hist(sim, alpha=0.5)\n",
    "\n",
    "print('''In this simulation, the total number of persons diagnosed with cancer in the sample population of 100,000 is %d.\n",
    "The remaining %d people tested negative for cancer.''' % (sim.sum(),10**5-sim.sum()))"
   ]
  },
  {
   "cell_type": "markdown",
   "metadata": {},
   "source": [
    "### Simulation of Cancer in Males\n",
    "\n",
    "The binomial distribution function in numpy.random was used to simulate cancer occurence in a sample of 100,000 males in each age interval [8].  The age intervals adopted from Cancer Research UK are represented below by the 'labels' variable [1].\n",
    "\n",
    "The 'male_interval' variable is a Python list containing the average no. of cases per 100,000 of cancer observed in males between 2013-2015 for each age interval [1].  These averages are used as the probability values in the binomial function below, used to simulate cancer tests in 100,000 patients at each age interval. \n",
    "\n",
    "The 'male_distribution' variable contains the simulated dataset for each age interval each time the loop runs. The 'sum_of_male_cases' variable is used to store the number of positive diagnoses from each age interval, and for use in visualising the simulated dataset. The male_distribution variable is reassigned on each iteration (for each interval) and only the positive diagnoses within the dataset are stored."
   ]
  },
  {
   "cell_type": "code",
   "execution_count": 3,
   "metadata": {},
   "outputs": [
    {
     "name": "stdout",
     "output_type": "stream",
     "text": [
      "[452, 263, 231, 424, 699, 1111, 1410, 1758, 2738, 4883]\n"
     ]
    }
   ],
   "source": [
    "n = 1  # number of trials\n",
    "sum_of_male_cases = []\n",
    "\n",
    "\n",
    "# Probabilities and age intervals from CancerResearchUK\n",
    "labels = ['0-4','5-9','10-14','15-19','20-24','25-29','30-34','35-39','40-44','45-49']\n",
    "male_interval = [0.0043,0.00259,0.00227,0.00418,0.00696,0.01086,0.01401,0.01666,0.0271,0.0488]#probability each age interval\n",
    "\n",
    "\n",
    "# Simulate cancer tests in sample population\n",
    "male_distribution = []\n",
    "for i in male_interval:\n",
    "    p = i\n",
    "    male_distribution = np.random.binomial(n, p, 100000) #cases per interval using binomial distribution with probabilites from from cancerresearchuk\n",
    "    sum_of_male_cases.append(male_distribution.sum()) # each age group is tested for cancer and random positives are chosen from the population based on numbers from canceruk.\n",
    "print(sum_of_male_cases)\n",
    "\n",
    "\n",
    "\n"
   ]
  },
  {
   "cell_type": "markdown",
   "metadata": {},
   "source": [
    "#### Simulation of Cancer in Females\n",
    "\n",
    "As with the simulation of cancer diagnoses in males. A dataset is synthesized for cancer cases in females using numpy's binomial function [8]. The 'female_interval' variable once again contains the probability values adopted from Cancer Research UK [1].\n",
    "\n",
    "Again a 'for' loop is used to iterate over the probabilities contained in the 'female_interval' list and numpy's binomial function is used to generate a dataset for each age interval. Positive diagnoses simulated at each age interval are stored in the 'sum_of_female_cases' variable."
   ]
  },
  {
   "cell_type": "code",
   "execution_count": 4,
   "metadata": {},
   "outputs": [
    {
     "name": "stdout",
     "output_type": "stream",
     "text": [
      "[395, 156, 185, 421, 774, 1665, 2379, 3245, 5682, 9712]\n"
     ]
    }
   ],
   "source": [
    "sum_of_female_cases = []\n",
    "\n",
    "# probabilities estimated from CancerResearch UK\n",
    "female_interval = [0.0037,0.00183,0.00205,0.004,0.00787,0.01682,0.02426,0.03293,0.05755,0.09781]\n",
    "\n",
    "female_distribution = []\n",
    "for i in female_interval:\n",
    "    p = i # the probability is reassigned by interval on each iteration.\n",
    "    female_distribution = np.random.binomial(n, p, 100000) # a simulated dataset is created for each age interval.\n",
    "    sum_of_female_cases.append(female_distribution.sum()) # the positive diagnoses are summed and stored in sum_of_female_cases.\n",
    "print(sum_of_female_cases)\n"
   ]
  },
  {
   "cell_type": "markdown",
   "metadata": {},
   "source": [
    "#### Pandas Dataframe\n",
    "\n",
    "A Pandas Dataframe was created from the male and female simulation data and added the real cancer data from Cancer Research UK to compare alongside the simulated dataset [1]. The columns named 'Actual Male Cases' and 'Actual Female Cases' contain the real data."
   ]
  },
  {
   "cell_type": "code",
   "execution_count": 5,
   "metadata": {},
   "outputs": [
    {
     "data": {
      "text/plain": [
       "<matplotlib.axes._subplots.AxesSubplot at 0x1ae021afda0>"
      ]
     },
     "execution_count": 5,
     "metadata": {},
     "output_type": "execute_result"
    },
    {
     "data": {
      "image/png": "[encoded data removed]",
      "text/plain": [
       "<Figure size 720x288 with 2 Axes>"
      ]
     },
     "metadata": {},
     "output_type": "display_data"
    }
   ],
   "source": [
    "# Create Pandas Dataframe from simulation results\n",
    "myframe = pd.DataFrame(sum_of_male_cases, columns=['Male Simulated'])\n",
    "\n",
    "# Add dataframe columns \n",
    "myframe['Age Interval'] = labels #created new column in dataframe for interval labels\n",
    "myframe['Female Simulated'] = sum_of_female_cases\n",
    "myframe.set_index(\"Age Interval\",drop=True,inplace=True)#used Pandas set index method to set col as index [9]\n",
    "myframe['Actual Male Cases'] = [430, 259, 227,418,696,1086,1401,1666,2710,4880]\n",
    "myframe['Actual Female Cases'] = [370,183,205,400,787,1682,2426,3293, 5755,9781]\n",
    "\n",
    "# Plot results of Binomial Distribution\n",
    "fig=plt.figure(figsize=(10,4))\n",
    "ax1=fig.add_subplot(1,2,1)\n",
    "\n",
    "ax2=fig.add_subplot(1,2,2)\n",
    "\n",
    "myframe[['Male Simulated','Female Simulated']].plot(kind='bar',ax=ax1)\n",
    "#https://pandas.pydata.org/pandas-docs/stable/generated/pandas.DataFrame.plot.html\n",
    "myframe[['Male Simulated','Female Simulated']].plot(kind='line', marker='.',ax=ax2)"
   ]
  },
  {
   "cell_type": "markdown",
   "metadata": {},
   "source": [
    "#### Analysis of Simulated Results (plotted above)\n",
    "\n",
    "It is interesting to note that up to age 24, the incidence of cancer in males and females is very similar, males showing a higher incidence of cancer up to age 19. From age 20 to 49, the simulated data shows a sharper increase in the rates of cancer in the female population. Cancer rates appear to increase in both male and female samples, but the lines diverge more at each interval and show an increasingly higher rate of cancer in females at each interval from age 20 to 49.\n",
    "\n",
    "The simulated results suggest that up to age 19, males have a slightly higher incidence of cancer than females.  The most striking result is that the simulation indicates young women from their mid-twenties to age fifty may run a significantly higher risk of being diagnosed with cancer as compared with their male counterparts.\n"
   ]
  },
  {
   "cell_type": "code",
   "execution_count": 6,
   "metadata": {},
   "outputs": [
    {
     "data": {
      "text/plain": [
       "<matplotlib.axes._subplots.AxesSubplot at 0x1ae021af908>"
      ]
     },
     "execution_count": 6,
     "metadata": {},
     "output_type": "execute_result"
    },
    {
     "data": {
      "image/png": "[encoded data removed]",
      "text/plain": [
       "<Figure size 432x288 with 1 Axes>"
      ]
     },
     "metadata": {},
     "output_type": "display_data"
    }
   ],
   "source": [
    "myframe[['Male Simulated','Actual Male Cases']].plot(kind='barh')"
   ]
  },
  {
   "cell_type": "code",
   "execution_count": 7,
   "metadata": {},
   "outputs": [
    {
     "data": {
      "text/html": [
       "<div>\n",
       "<style scoped>\n",
       "    .dataframe tbody tr th:only-of-type {\n",
       "        vertical-align: middle;\n",
       "    }\n",
       "\n",
       "    .dataframe tbody tr th {\n",
       "        vertical-align: top;\n",
       "    }\n",
       "\n",
       "    .dataframe thead th {\n",
       "        text-align: right;\n",
       "    }\n",
       "</style>\n",
       "<table border=\"1\" class=\"dataframe\">\n",
       "  <thead>\n",
       "    <tr style=\"text-align: right;\">\n",
       "      <th></th>\n",
       "      <th>Male Simulated</th>\n",
       "      <th>Actual Male Cases</th>\n",
       "    </tr>\n",
       "  </thead>\n",
       "  <tbody>\n",
       "    <tr>\n",
       "      <th>Male Simulated</th>\n",
       "      <td>1.000000</td>\n",
       "      <td>0.999827</td>\n",
       "    </tr>\n",
       "    <tr>\n",
       "      <th>Actual Male Cases</th>\n",
       "      <td>0.999827</td>\n",
       "      <td>1.000000</td>\n",
       "    </tr>\n",
       "  </tbody>\n",
       "</table>\n",
       "</div>"
      ],
      "text/plain": [
       "                   Male Simulated  Actual Male Cases\n",
       "Male Simulated           1.000000           0.999827\n",
       "Actual Male Cases        0.999827           1.000000"
      ]
     },
     "execution_count": 7,
     "metadata": {},
     "output_type": "execute_result"
    }
   ],
   "source": [
    "myframe[['Male Simulated','Actual Male Cases']].corr()"
   ]
  },
  {
   "cell_type": "markdown",
   "metadata": {},
   "source": [
    "#### Simulated vs. Actual\n",
    "\n",
    "In the horizontal bar chart above, it is clear that the simulated cancer cases are strongly correlated with the actual data from Cancer Research UK.\n",
    "\n",
    "The difference in no. of cases is seen in the bar chart below. The highest arithmetic difference between actual and simulated cancer cases is seen in the oldest age interval, 45-49."
   ]
  },
  {
   "cell_type": "code",
   "execution_count": 8,
   "metadata": {},
   "outputs": [
    {
     "data": {
      "text/html": [
       "<div>\n",
       "<style scoped>\n",
       "    .dataframe tbody tr th:only-of-type {\n",
       "        vertical-align: middle;\n",
       "    }\n",
       "\n",
       "    .dataframe tbody tr th {\n",
       "        vertical-align: top;\n",
       "    }\n",
       "\n",
       "    .dataframe thead th {\n",
       "        text-align: right;\n",
       "    }\n",
       "</style>\n",
       "<table border=\"1\" class=\"dataframe\">\n",
       "  <thead>\n",
       "    <tr style=\"text-align: right;\">\n",
       "      <th></th>\n",
       "      <th>Male Simulated</th>\n",
       "      <th>Female Simulated</th>\n",
       "      <th>Actual Male Cases</th>\n",
       "      <th>Actual Female Cases</th>\n",
       "    </tr>\n",
       "    <tr>\n",
       "      <th>Age Interval</th>\n",
       "      <th></th>\n",
       "      <th></th>\n",
       "      <th></th>\n",
       "      <th></th>\n",
       "    </tr>\n",
       "  </thead>\n",
       "  <tbody>\n",
       "    <tr>\n",
       "      <th>0-4</th>\n",
       "      <td>452</td>\n",
       "      <td>395</td>\n",
       "      <td>430</td>\n",
       "      <td>370</td>\n",
       "    </tr>\n",
       "    <tr>\n",
       "      <th>5-9</th>\n",
       "      <td>263</td>\n",
       "      <td>156</td>\n",
       "      <td>259</td>\n",
       "      <td>183</td>\n",
       "    </tr>\n",
       "    <tr>\n",
       "      <th>10-14</th>\n",
       "      <td>231</td>\n",
       "      <td>185</td>\n",
       "      <td>227</td>\n",
       "      <td>205</td>\n",
       "    </tr>\n",
       "    <tr>\n",
       "      <th>15-19</th>\n",
       "      <td>424</td>\n",
       "      <td>421</td>\n",
       "      <td>418</td>\n",
       "      <td>400</td>\n",
       "    </tr>\n",
       "    <tr>\n",
       "      <th>20-24</th>\n",
       "      <td>699</td>\n",
       "      <td>774</td>\n",
       "      <td>696</td>\n",
       "      <td>787</td>\n",
       "    </tr>\n",
       "    <tr>\n",
       "      <th>25-29</th>\n",
       "      <td>1111</td>\n",
       "      <td>1665</td>\n",
       "      <td>1086</td>\n",
       "      <td>1682</td>\n",
       "    </tr>\n",
       "    <tr>\n",
       "      <th>30-34</th>\n",
       "      <td>1410</td>\n",
       "      <td>2379</td>\n",
       "      <td>1401</td>\n",
       "      <td>2426</td>\n",
       "    </tr>\n",
       "    <tr>\n",
       "      <th>35-39</th>\n",
       "      <td>1758</td>\n",
       "      <td>3245</td>\n",
       "      <td>1666</td>\n",
       "      <td>3293</td>\n",
       "    </tr>\n",
       "    <tr>\n",
       "      <th>40-44</th>\n",
       "      <td>2738</td>\n",
       "      <td>5682</td>\n",
       "      <td>2710</td>\n",
       "      <td>5755</td>\n",
       "    </tr>\n",
       "    <tr>\n",
       "      <th>45-49</th>\n",
       "      <td>4883</td>\n",
       "      <td>9712</td>\n",
       "      <td>4880</td>\n",
       "      <td>9781</td>\n",
       "    </tr>\n",
       "  </tbody>\n",
       "</table>\n",
       "</div>"
      ],
      "text/plain": [
       "              Male Simulated  Female Simulated  Actual Male Cases  \\\n",
       "Age Interval                                                        \n",
       "0-4                      452               395                430   \n",
       "5-9                      263               156                259   \n",
       "10-14                    231               185                227   \n",
       "15-19                    424               421                418   \n",
       "20-24                    699               774                696   \n",
       "25-29                   1111              1665               1086   \n",
       "30-34                   1410              2379               1401   \n",
       "35-39                   1758              3245               1666   \n",
       "40-44                   2738              5682               2710   \n",
       "45-49                   4883              9712               4880   \n",
       "\n",
       "              Actual Female Cases  \n",
       "Age Interval                       \n",
       "0-4                           370  \n",
       "5-9                           183  \n",
       "10-14                         205  \n",
       "15-19                         400  \n",
       "20-24                         787  \n",
       "25-29                        1682  \n",
       "30-34                        2426  \n",
       "35-39                        3293  \n",
       "40-44                        5755  \n",
       "45-49                        9781  "
      ]
     },
     "execution_count": 8,
     "metadata": {},
     "output_type": "execute_result"
    }
   ],
   "source": [
    "myframe"
   ]
  },
  {
   "cell_type": "code",
   "execution_count": 9,
   "metadata": {
    "scrolled": true
   },
   "outputs": [
    {
     "data": {
      "text/plain": [
       "Text(0,0.5,'% diff from actual')"
      ]
     },
     "execution_count": 9,
     "metadata": {},
     "output_type": "execute_result"
    },
    {
     "data": {
      "image/png": "[encoded data removed]",
      "text/plain": [
       "<Figure size 720x288 with 2 Axes>"
      ]
     },
     "metadata": {},
     "output_type": "display_data"
    }
   ],
   "source": [
    "Difference_M = myframe['Male Simulated']-myframe['Actual Male Cases'] # check difference sim vs actual\n",
    "myframe['Difference'] = Difference_M.abs() # remove minuses\n",
    "percent_diff_m = myframe['Difference']/myframe['Actual Male Cases']*100 # calculate % difference\n",
    "\n",
    "fig=plt.figure(figsize=(10,4))\n",
    "ax1=fig.add_subplot(1,2,1)\n",
    "\n",
    "ax2=fig.add_subplot(1,2,2)\n",
    "\n",
    "myframe[['Difference']].plot(ax=ax1, kind='bar',color='g',title='Difference Simulated Vs. Actual Male')\n",
    "ax1.set_ylabel('no.of cases')\n",
    "\n",
    "percent_diff_m.plot(ax=ax2, kind='bar',color='b', alpha=0.3, title='% Difference Simulated Vs. Actual Male')\n",
    "ax2.set_ylabel('% diff from actual')"
   ]
  },
  {
   "cell_type": "code",
   "execution_count": 10,
   "metadata": {},
   "outputs": [
    {
     "name": "stdout",
     "output_type": "stream",
     "text": [
      "The percentage difference between simulated and actual cases in males ranges from 0.06 % to 5.52 % \n"
     ]
    }
   ],
   "source": [
    "print(\"The percentage difference between simulated and actual cases in males ranges from {0:.2f} % to {1:.2f} % \".format(percent_diff_m.min(), percent_diff_m.max()))"
   ]
  },
  {
   "cell_type": "code",
   "execution_count": 11,
   "metadata": {},
   "outputs": [
    {
     "data": {
      "text/plain": [
       "Text(0,0.5,'% diff from actual')"
      ]
     },
     "execution_count": 11,
     "metadata": {},
     "output_type": "execute_result"
    },
    {
     "data": {
      "image/png": "[encoded data removed]",
      "text/plain": [
       "<Figure size 720x288 with 2 Axes>"
      ]
     },
     "metadata": {},
     "output_type": "display_data"
    }
   ],
   "source": [
    "Difference_F = myframe['Female Simulated']-myframe['Actual Female Cases']\n",
    "myframe['Difference_F'] = Difference_F.abs()\n",
    "percent_diff_f = myframe['Difference_F']/myframe['Actual Female Cases']*100\n",
    "\n",
    "fig=plt.figure(figsize=(10,4))\n",
    "ax1=fig.add_subplot(1,2,1)\n",
    "\n",
    "ax2=fig.add_subplot(1,2,2)\n",
    "\n",
    "myframe[['Difference_F']].plot(ax=ax1, kind='bar',color='g',title='Difference Simulated Vs. Actual Female')\n",
    "ax1.set_ylabel('no.of cases')\n",
    "\n",
    "percent_diff_f.plot(ax=ax2, kind='bar',color='r', alpha=0.3, title='% Difference Simulated Vs. Actual Female')\n",
    "ax2.set_ylabel('% diff from actual')"
   ]
  },
  {
   "cell_type": "code",
   "execution_count": 12,
   "metadata": {},
   "outputs": [
    {
     "name": "stdout",
     "output_type": "stream",
     "text": [
      "The percentage difference between simulated and actual cases in females ranges from 0.71 % to 14.75 % \n"
     ]
    }
   ],
   "source": [
    "print(\"The percentage difference between simulated and actual cases in females ranges from {0:.2f} % to {1:.2f} % \".format(percent_diff_f.min(), percent_diff_f.max()))"
   ]
  },
  {
   "cell_type": "markdown",
   "metadata": {},
   "source": [
    "#### Simulation of Cancer Types (Males)\n",
    "\n",
    "The variable 'Age_inter_2_M' below contains a list of the most common cancers diagnosed in males (0-14 years).  random.choice is used to simulate the occurence of the most common cancer types using data from Cancer Research UK [1]. 'type_inter_2_M' contains the cancer type simulation for the male sample in the 0-14 age interval."
   ]
  },
  {
   "cell_type": "code",
   "execution_count": 13,
   "metadata": {
    "scrolled": true
   },
   "outputs": [],
   "source": [
    "Cancer_by_age = pd.DataFrame(columns=['Age','Total Cases'])\n",
    "Cancer_by_age['Age'] = labels\n",
    "Cancer_by_age['Total Cases'] = myframe['Male Simulated'].values + myframe['Female Simulated'].values # add values for male & female simulations\n",
    "\n",
    "# contains total simulated cases for male and female\n",
    "Cancer_by_age \n",
    "\n",
    "\n",
    "#Most common cancer types in males (0-14 yrs)\n",
    "Age_inter_2_M = ['Leukaemias','Brain', 'Lymphomas','Soft tissue sarcoma','SNS','Other cancers'] \n",
    "\n",
    "#Simulated dataset of cancer types using estimated probabilities from CancerResearchUK (males, 0-14 yrs)\n",
    "type_inter_2_M = np.random.choice(Age_inter_2_M, 916, p=[.31,.26,.13,.07,.05,.18])\n"
   ]
  },
  {
   "cell_type": "code",
   "execution_count": 14,
   "metadata": {},
   "outputs": [
    {
     "data": {
      "text/html": [
       "<div>\n",
       "<style scoped>\n",
       "    .dataframe tbody tr th:only-of-type {\n",
       "        vertical-align: middle;\n",
       "    }\n",
       "\n",
       "    .dataframe tbody tr th {\n",
       "        vertical-align: top;\n",
       "    }\n",
       "\n",
       "    .dataframe thead th {\n",
       "        text-align: right;\n",
       "    }\n",
       "</style>\n",
       "<table border=\"1\" class=\"dataframe\">\n",
       "  <thead>\n",
       "    <tr style=\"text-align: right;\">\n",
       "      <th></th>\n",
       "      <th>Age</th>\n",
       "      <th>Total Cases</th>\n",
       "    </tr>\n",
       "  </thead>\n",
       "  <tbody>\n",
       "    <tr>\n",
       "      <th>0</th>\n",
       "      <td>0-4</td>\n",
       "      <td>847</td>\n",
       "    </tr>\n",
       "    <tr>\n",
       "      <th>1</th>\n",
       "      <td>5-9</td>\n",
       "      <td>419</td>\n",
       "    </tr>\n",
       "    <tr>\n",
       "      <th>2</th>\n",
       "      <td>10-14</td>\n",
       "      <td>416</td>\n",
       "    </tr>\n",
       "    <tr>\n",
       "      <th>3</th>\n",
       "      <td>15-19</td>\n",
       "      <td>845</td>\n",
       "    </tr>\n",
       "    <tr>\n",
       "      <th>4</th>\n",
       "      <td>20-24</td>\n",
       "      <td>1473</td>\n",
       "    </tr>\n",
       "    <tr>\n",
       "      <th>5</th>\n",
       "      <td>25-29</td>\n",
       "      <td>2776</td>\n",
       "    </tr>\n",
       "    <tr>\n",
       "      <th>6</th>\n",
       "      <td>30-34</td>\n",
       "      <td>3789</td>\n",
       "    </tr>\n",
       "    <tr>\n",
       "      <th>7</th>\n",
       "      <td>35-39</td>\n",
       "      <td>5003</td>\n",
       "    </tr>\n",
       "    <tr>\n",
       "      <th>8</th>\n",
       "      <td>40-44</td>\n",
       "      <td>8420</td>\n",
       "    </tr>\n",
       "    <tr>\n",
       "      <th>9</th>\n",
       "      <td>45-49</td>\n",
       "      <td>14595</td>\n",
       "    </tr>\n",
       "  </tbody>\n",
       "</table>\n",
       "</div>"
      ],
      "text/plain": [
       "     Age  Total Cases\n",
       "0    0-4          847\n",
       "1    5-9          419\n",
       "2  10-14          416\n",
       "3  15-19          845\n",
       "4  20-24         1473\n",
       "5  25-29         2776\n",
       "6  30-34         3789\n",
       "7  35-39         5003\n",
       "8  40-44         8420\n",
       "9  45-49        14595"
      ]
     },
     "execution_count": 14,
     "metadata": {},
     "output_type": "execute_result"
    }
   ],
   "source": [
    "Cancer_by_age"
   ]
  },
  {
   "cell_type": "markdown",
   "metadata": {},
   "source": [
    "The 'for' loop in the following cell and list comprehension are used to iterate over the simulated dataset of common cancer types in males i.e. 'type_inter_2_M' and count the number of each cancer type generated by the random.choice function.  The results are appended to 'Common_cancer_M'."
   ]
  },
  {
   "cell_type": "code",
   "execution_count": 15,
   "metadata": {},
   "outputs": [
    {
     "name": "stdout",
     "output_type": "stream",
     "text": [
      "[288, 250, 129, 56, 58, 135]\n"
     ]
    }
   ],
   "source": [
    "#simulated dataset of common cancer types in males\n",
    "type_inter_2_M = list(type_inter_2_M)\n",
    "\n",
    "\n",
    "# summary_inter_2 is an example of a list comprehension to count the number of cases of each type \n",
    "summary_inter_2 = [type_inter_2_M.count(item) for item in Age_inter_2_M]\n",
    "\n",
    "Common_cancer_M = []\n",
    "for item in Age_inter_2_M: # for loop iterates over the list containing they types of cancer\n",
    "    Common_cancer_M.append(type_inter_2_M.count(item)) # count of diagnoses for each type in simulated dataset(type_inter_2_M)\n",
    "print(Common_cancer_M)\n",
    "\n",
    "\n"
   ]
  },
  {
   "cell_type": "markdown",
   "metadata": {},
   "source": [
    "#### Simulation of Cancer Types (Females)\n",
    "\n",
    "The same process is used to simulate the most common cancers in females using data from Cancer Research UK. The simulated dataset is stored in 'type_inter_2_F' and the number of cases of each cancer type are counted and appended to 'Common_cancer_F'."
   ]
  },
  {
   "cell_type": "code",
   "execution_count": 16,
   "metadata": {},
   "outputs": [
    {
     "name": "stdout",
     "output_type": "stream",
     "text": [
      "[219, 232, 53, 43, 49, 162]\n"
     ]
    }
   ],
   "source": [
    "\n",
    "#Most common cancer types in females (0-14 yrs)\n",
    "Age_inter_2_F = ['Leukaemias', 'Brain','Lymphomas','Renal','Soft tissue sarcoma','Other cancers']\n",
    "\n",
    "#Simulated occurence of types of cancer using estimated probabilities from CancerResearchUK (females, 0-14 yrs)\n",
    "type_inter_2_F = np.random.choice(Age_inter_2_F, 758, p=[.29,.28,.07,.06,.06,.24])\n",
    "\n",
    "#Simulated dataset of cancer diagnoses by type(females, 0-14 yrs)\n",
    "type_inter_2_F = list(type_inter_2_F)\n",
    "\n",
    "Common_cancer_F = []\n",
    "for item in Age_inter_2_F:\n",
    "    Common_cancer_F.append(type_inter_2_F.count(item)) #count of diagnoses for each type in simulated dataset(type_inter_2_F)\n",
    "print(Common_cancer_F)"
   ]
  },
  {
   "cell_type": "markdown",
   "metadata": {},
   "source": [
    "#### Analysis of Top 5 Cancers\n",
    "\n",
    "The counts of cancer cases by most common types in males and females - derived from the simulated datasets - are converted into Pandas dataframes and concatenated into one dataframe to allow further comparison. Leukaemia appears to be the most prevalent cancer type in both males and females aged 0-14, followed by brain tumours. Renal cancer was absent in male simulation, while SNS was not one of the common cancers in females. More than twice the  number of lymphomas were diagnosed in the male simulation."
   ]
  },
  {
   "cell_type": "code",
   "execution_count": 17,
   "metadata": {},
   "outputs": [
    {
     "data": {
      "text/html": [
       "<div>\n",
       "<style scoped>\n",
       "    .dataframe tbody tr th:only-of-type {\n",
       "        vertical-align: middle;\n",
       "    }\n",
       "\n",
       "    .dataframe tbody tr th {\n",
       "        vertical-align: top;\n",
       "    }\n",
       "\n",
       "    .dataframe thead th {\n",
       "        text-align: right;\n",
       "    }\n",
       "</style>\n",
       "<table border=\"1\" class=\"dataframe\">\n",
       "  <thead>\n",
       "    <tr style=\"text-align: right;\">\n",
       "      <th></th>\n",
       "      <th>Most Common in Males</th>\n",
       "      <th>Most Common in Females</th>\n",
       "    </tr>\n",
       "  </thead>\n",
       "  <tbody>\n",
       "    <tr>\n",
       "      <th>Leukaemias</th>\n",
       "      <td>288.0</td>\n",
       "      <td>219.0</td>\n",
       "    </tr>\n",
       "    <tr>\n",
       "      <th>Brain</th>\n",
       "      <td>250.0</td>\n",
       "      <td>232.0</td>\n",
       "    </tr>\n",
       "    <tr>\n",
       "      <th>Lymphomas</th>\n",
       "      <td>129.0</td>\n",
       "      <td>53.0</td>\n",
       "    </tr>\n",
       "    <tr>\n",
       "      <th>Soft tissue sarcoma</th>\n",
       "      <td>56.0</td>\n",
       "      <td>49.0</td>\n",
       "    </tr>\n",
       "    <tr>\n",
       "      <th>SNS</th>\n",
       "      <td>58.0</td>\n",
       "      <td>NaN</td>\n",
       "    </tr>\n",
       "    <tr>\n",
       "      <th>Other cancers</th>\n",
       "      <td>135.0</td>\n",
       "      <td>162.0</td>\n",
       "    </tr>\n",
       "    <tr>\n",
       "      <th>Renal</th>\n",
       "      <td>NaN</td>\n",
       "      <td>43.0</td>\n",
       "    </tr>\n",
       "  </tbody>\n",
       "</table>\n",
       "</div>"
      ],
      "text/plain": [
       "                     Most Common in Males  Most Common in Females\n",
       "Leukaemias                          288.0                   219.0\n",
       "Brain                               250.0                   232.0\n",
       "Lymphomas                           129.0                    53.0\n",
       "Soft tissue sarcoma                  56.0                    49.0\n",
       "SNS                                  58.0                     NaN\n",
       "Other cancers                       135.0                   162.0\n",
       "Renal                                 NaN                    43.0"
      ]
     },
     "execution_count": 17,
     "metadata": {},
     "output_type": "execute_result"
    }
   ],
   "source": [
    "a = pd.DataFrame(Common_cancer_M, index=Age_inter_2_M, columns=['Most Common in Males'])#simulated cancer types in males (0-14)\n",
    "b = pd.DataFrame(Common_cancer_F, index=Age_inter_2_F, columns=['Most Common in Females'])#simulated cancer types in females (0-14)\n",
    "\n",
    "top_5 = pd.concat([a,b], axis=1, sort=False) # concatenates Common_cancer_M with Common_cancer_F[6]\n",
    "\n",
    "top_5"
   ]
  },
  {
   "cell_type": "markdown",
   "metadata": {},
   "source": [
    "#### Scatter Plot of SImulation Results - Most Common Cancer Types\n",
    "\n",
    "The plot below offers a useful visual comparison of common types of cancers in males versus females.  It is clear that Leukaemia and brain cancers are the most prevalent types in both males and females and also that the incidence in males of this age interval is higher for most types of cancer, except soft tissue sarcomas which saw an equal number of cases and 'other cancers' which was the only category where a higher incidence was seen in the female simulation."
   ]
  },
  {
   "cell_type": "code",
   "execution_count": 18,
   "metadata": {},
   "outputs": [
    {
     "data": {
      "image/png": "[encoded data removed]",
      "text/plain": [
       "<Figure size 432x288 with 1 Axes>"
      ]
     },
     "metadata": {},
     "output_type": "display_data"
    }
   ],
   "source": [
    "#changed the index into a column named index\n",
    "top_5 = top_5.reset_index()\n",
    "\n",
    "\n",
    "\n",
    "# plotted simulated number of cases of most common cancers in males and females together\n",
    "plt.xlim(0, 300)\n",
    "plt.ylim(0, 300)\n",
    "# set colours and legend for each cancer type using 'hue' kwarg.\n",
    "ax = sns.scatterplot(x=\"Most Common in Males\", y=\"Most Common in Females\",hue=\"index\", data=top_5)\n"
   ]
  },
  {
   "cell_type": "code",
   "execution_count": 19,
   "metadata": {},
   "outputs": [
    {
     "data": {
      "text/plain": [
       "[288, 250, 129, 56, 58, 135]"
      ]
     },
     "execution_count": 19,
     "metadata": {},
     "output_type": "execute_result"
    }
   ],
   "source": [
    "summary_inter_2"
   ]
  },
  {
   "cell_type": "markdown",
   "metadata": {},
   "source": [
    "#### References:\n",
    "\n",
    "1. https://www.cancerresearchuk.org/health-professional/cancer-statistics/incidence/age#heading-Zero\n",
    "\n",
    "2. https://math.stackexchange.com/questions/838107/what-is-the-difference-and-relationship-between-the-binomial-and-bernoulli-distr\n",
    "\n",
    "3 https://www.stattrek.com/probability-distributions/binomial.aspx\n",
    "\n",
    "4.  https://stackoverflow.com/questions/45747589/copying-a-column-from-one-dataframe-to-another-gives-nan-values\n",
    "\n",
    "5. https://www.dataquest.io/blog/adding-axis-labels-to-plots-with-pandas-and-matplotlib/\n",
    "\n",
    "6. https://stackoverflow.com/questions/28135436/concatenate-rows-of-two-dataframes-in-pandas\n",
    "\n",
    "7. https://www.cancer.gov/about-cancer/understanding/statistics\n",
    "\n",
    "8. https://docs.scipy.org/doc/numpy/reference/generated/numpy.random.binomial.html\n",
    "\n",
    "9. https://pandas.pydata.org/pandas-docs/stable/generated/pandas.DataFrame.set_index.html\n",
    "\n",
    "10. https://stackoverflow.com/questions/22483588/how-can-i-plot-separate-pandas-dataframes-as-subplots\n",
    "\n",
    "11. Graham, A., 2013. Statistics: A complete introduction. 7th ed. UK: Hodder & Stoughton"
   ]
  },
  {
   "cell_type": "code",
   "execution_count": null,
   "metadata": {},
   "outputs": [],
   "source": []
  }
 ],
 "metadata": {
  "kernelspec": {
   "display_name": "Python 3",
   "language": "python",
   "name": "python3"
  },
  "language_info": {
   "codemirror_mode": {
    "name": "ipython",
    "version": 3
   },
   "file_extension": ".py",
   "mimetype": "text/x-python",
   "name": "python",
   "nbconvert_exporter": "python",
   "pygments_lexer": "ipython3",
   "version": "3.6.5"
  }
 },
 "nbformat": 4,
 "nbformat_minor": 2
}
