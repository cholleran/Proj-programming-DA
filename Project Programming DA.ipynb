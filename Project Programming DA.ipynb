{
 "cells": [
  {
   "cell_type": "code",
   "execution_count": 1,
   "metadata": {},
   "outputs": [],
   "source": [
    "import matplotlib.pyplot as plt\n",
    "import numpy as np\n",
    "from numpy import random\n",
    "from random import expovariate\n",
    "import pandas as pd\n",
    "import seaborn as sns\n",
    "\n"
   ]
  },
  {
   "cell_type": "markdown",
   "metadata": {},
   "source": [
    "### Simulation with Binomial Distribution\n",
    "\n",
    "A Binomial distribution is used here to simulate cancer tests in a population of 100,000.  It is suitable because it is a discrete distribution and uses Bernoulli trials, each of which has a true or false outcome.  This function is ideal for creating an artificial dataset to simulate cancer tests, since each cancer test also has a true or false outcome in real life. \n",
    "\n",
    "The function below runs a single simulated cancer test (n) on each member of the sample population of 100,000. The probability (p) of a positive diagnosis is approximated using the average incidence of cancer in the U.S. between 2011–2015.[]. The histogram below shows the number of negative diagnoses at point zero on the x-axis and positive diagnoses at point 1.0."
   ]
  },
  {
   "cell_type": "code",
   "execution_count": 16,
   "metadata": {},
   "outputs": [
    {
     "name": "stdout",
     "output_type": "stream",
     "text": [
      "In this simulation, the total number of persons diagnosed with cancer in the sample population of 100,000 is 449.\n",
      "The remaining 99551 people tested negative for cancer.\n"
     ]
    },
    {
     "data": {
      "image/png": "[encoded data removed]",
      "text/plain": [
       "<Figure size 432x288 with 1 Axes>"
      ]
     },
     "metadata": {},
     "output_type": "display_data"
    }
   ],
   "source": [
    "avg_incidence = 439.2/10**5 #Average incidence new cancer diagnoses from the National Cancer Institute (U.S.)\n",
    "n, p = 1, avg_incidence  # number of trials, probability of each trial\n",
    "sim = np.random.binomial(n, p, 100000) # The binomial function used for simulation.\n",
    "\n",
    "\n",
    "dataset = pd.DataFrame(sim)\n",
    "plt.hist(sim, alpha=0.5)\n",
    "\n",
    "print('''In this simulation, the total number of persons diagnosed with cancer in the sample population of 100,000 is %d.\n",
    "The remaining %d people tested negative for cancer.''' % (sim.sum(),10**5-sim.sum()))"
   ]
  },
  {
   "cell_type": "code",
   "execution_count": null,
   "metadata": {},
   "outputs": [],
   "source": [
    "n = 1  # number of trials\n",
    "sum_of_male_cases = []\n",
    "\n",
    "\n",
    "# Probabilities and intervals from CancerResearchUK\n",
    "labels = ['0-4','5-9','10-14','15-19','20-24','25-29','30-34','35-39','40-44','45-49']\n",
    "male_interval = [0.0043,0.00259,0.00227,0.00418,0.00696,0.01086,0.01401,0.01666,0.0271,0.0488]#probability each age interval\n",
    "\n",
    "\n",
    "# Simulate cancer tests in sample population\n",
    "male_distribution = []\n",
    "for i in male_interval:\n",
    "    p = i\n",
    "    male_distribution = np.random.binomial(n, p, 100000) #cases per interval using binomial distribution with probabilites from from cancerresearchuk\n",
    "    sum_of_male_cases.append(male_distribution.sum()) # each age group is tested for cancer and random positives are chosen from the population based on numbers from canceruk.\n",
    "print(sum_of_male_cases)\n",
    "\n",
    "\n",
    "\n"
   ]
  },
  {
   "cell_type": "code",
   "execution_count": null,
   "metadata": {},
   "outputs": [],
   "source": [
    "sum_of_female_cases = []\n",
    "\n",
    "female_interval = [0.0037,0.00183,0.00205,0.004,0.00787,0.01682,0.02426,0.03293,0.05755,0.09781]\n",
    "\n",
    "\n",
    "female_distribution = []\n",
    "for i in female_interval:\n",
    "    p = i\n",
    "    female_distribution = np.random.binomial(n, p, 100000) #cases per interval using binomial distribution with probabilites from from cancerresearchuk\n",
    "    sum_of_female_cases.append(female_distribution.sum()) # each age group is tested for cancer and random positives are chosen from the population based on numbers from canceruk.\n",
    "print(sum_of_female_cases)\n"
   ]
  },
  {
   "cell_type": "code",
   "execution_count": null,
   "metadata": {},
   "outputs": [],
   "source": [
    "# Create Pandas Dataframe from simulation results\n",
    "labels = ['0-4','5-9','10-14','15-19','20-24','25-29','30-34','35-39','40-44','45-49']\n",
    "myframe = pd.DataFrame(sum_of_male_cases, columns=['Male Simulated'])\n",
    "myframe['Age Interval'] = labels #created new column in dataframe for interval labels\n",
    "myframe['Female Simulated'] = sum_of_female_cases\n",
    "myframe.set_index(\"Age Interval\",drop=True,inplace=True)#used Pandas set index method to set col as index\n",
    "myframe['Actual Male Cases'] = [430, 259, 227,418,696,1086,1401,1666,2710,4880]\n",
    "myframe['Actual Female Cases'] = [370,183,205,400,787,1682,2426,3293, 5755,9781]\n",
    "\n",
    "# Plot results of Binomial Distribution\n",
    "fig=plt.figure(figsize=(10,4))\n",
    "ax1=fig.add_subplot(1,2,1)\n",
    "ax2=fig.add_subplot(1,2,2)\n",
    "\n",
    "myframe[['Male Simulated','Female Simulated']].plot(kind='bar',ax=ax1)\n",
    "#line plot is better visualisation\n",
    "myframe[['Male Simulated','Female Simulated']].plot(kind='line',ax=ax2)"
   ]
  },
  {
   "cell_type": "code",
   "execution_count": null,
   "metadata": {},
   "outputs": [],
   "source": [
    "myframe[['Male Simulated','Actual Male Cases']].plot(kind='barh')"
   ]
  },
  {
   "cell_type": "code",
   "execution_count": null,
   "metadata": {},
   "outputs": [],
   "source": [
    "myframe"
   ]
  },
  {
   "cell_type": "code",
   "execution_count": null,
   "metadata": {
    "scrolled": true
   },
   "outputs": [],
   "source": [
    "Difference = myframe['Male Simulated']-myframe['Actual Male Cases']\n",
    "myframe['Difference'] = Difference.abs()\n",
    "\n",
    "myframe[['Difference']].plot(kind='bar',color='g',title='Difference Simulated Vs. Actual Male')"
   ]
  },
  {
   "cell_type": "code",
   "execution_count": null,
   "metadata": {
    "scrolled": true
   },
   "outputs": [],
   "source": [
    "Cancer_by_age = pd.DataFrame(columns=['Age','Total Cases','Type','Number'])\n",
    "Cancer_by_age['Age'] = labels\n",
    "Cancer_by_age['Total Cases'] = myframe['Male Simulated'].values + myframe['Female Simulated'].values\n",
    "Cancer_by_age\n",
    "\n",
    "\n",
    "\n",
    "Age_inter_2_M = [('Leukaemias'),('Brain'), ('Lymphomas'),('Soft tissue sarcoma'),('SNS'),('Other cancers')]#Important\n",
    "type_inter_2_M = np.random.choice(Age_inter_2_M, 916, p=[.31,.26,.13,.07,.05,.18])#Simulated occurence of types of cancer from CancerResearchUK(0-14 yrs)\n"
   ]
  },
  {
   "cell_type": "code",
   "execution_count": null,
   "metadata": {},
   "outputs": [],
   "source": [
    "Cancer_by_age"
   ]
  },
  {
   "cell_type": "code",
   "execution_count": null,
   "metadata": {},
   "outputs": [],
   "source": [
    "type_inter_2_M = list(type_inter_2_M)\n",
    "\n",
    "summary_inter_2 = [type_inter_2_M.count(item) for item in Age_inter_2_M]\n",
    "\n",
    "Common_cancer_M = []\n",
    "for item in Age_inter_2_M:\n",
    "    Common_cancer_M.append(type_inter_2_M.count(item))\n",
    "print(Common_cancer_M)\n",
    "\n",
    "\n"
   ]
  },
  {
   "cell_type": "code",
   "execution_count": null,
   "metadata": {},
   "outputs": [],
   "source": [
    "Age_inter_2_F = ['Leukaemias', 'Brain','Lymphomas','Renal','Soft tissue sarcoma','Other cancers']\n",
    "\n",
    "#Important\n",
    "type_inter_2_F = np.random.choice(Age_inter_2_F, 700, p=[.29,.28,.07,.06,.06,.24])\n",
    "#Simulated occurence of types of cancer from CancerResearchUK(0-14 yrs)\n",
    "\n",
    "type_inter_2_F = list(type_inter_2_F)\n",
    "\n",
    "Common_cancer_F = []\n",
    "for item in Age_inter_2_F:\n",
    "    Common_cancer_F.append(type_inter_2_F.count(item))\n",
    "print(Common_cancer_F)"
   ]
  },
  {
   "cell_type": "code",
   "execution_count": null,
   "metadata": {},
   "outputs": [],
   "source": [
    "a = pd.DataFrame(Common_cancer_M, index=Age_inter_2_M, columns=['Most Common in Males'])#simulated cancer types in males (0-14)\n",
    "b = pd.DataFrame(Common_cancer_F, index=Age_inter_2_F, columns=['Most Common in Females'])#simulated cancer types in females (0-14)\n",
    "\n",
    "top_5 = pd.concat([a,b], axis=1, sort=True) #[5]\n",
    "\n",
    "top_5"
   ]
  },
  {
   "cell_type": "code",
   "execution_count": null,
   "metadata": {},
   "outputs": [],
   "source": [
    "top_5 = top_5.reset_index()\n",
    "\n",
    "\n",
    "ax = sns.scatterplot(x=\"Most Common in Males\", y=\"Most Common in Females\",hue=\"index\", data=top_5)\n"
   ]
  },
  {
   "cell_type": "code",
   "execution_count": null,
   "metadata": {},
   "outputs": [],
   "source": [
    "summary_inter_2"
   ]
  },
  {
   "cell_type": "code",
   "execution_count": null,
   "metadata": {},
   "outputs": [],
   "source": [
    "new\n"
   ]
  },
  {
   "cell_type": "code",
   "execution_count": null,
   "metadata": {},
   "outputs": [],
   "source": [
    "dataset.describe()"
   ]
  },
  {
   "cell_type": "code",
   "execution_count": null,
   "metadata": {},
   "outputs": [],
   "source": []
  },
  {
   "cell_type": "code",
   "execution_count": null,
   "metadata": {},
   "outputs": [],
   "source": [
    "dataset.sum() #average incidence rate of cancer "
   ]
  },
  {
   "cell_type": "code",
   "execution_count": null,
   "metadata": {},
   "outputs": [],
   "source": [
    "year = 0\n",
    "results = []\n",
    "\n",
    "for year in range(1,80):\n",
    "    year = int(expovariate(1/59)) #cases per year using exponential distribution with mean no. of cases from cancerresearchuk\n",
    "    print(year)\n",
    "    results.append(year)\n",
    "   \n",
    "    \n",
    "np.array(results)\n",
    "\n",
    "\n",
    "\n",
    "plt.show()\n",
    "\n",
    "my_df = pd.DataFrame(results)\n",
    "\n",
    "plt.plot(x=my_df.index.values,y=my_df)\n"
   ]
  },
  {
   "cell_type": "markdown",
   "metadata": {},
   "source": [
    "https://www.cancerresearchuk.org/health-professional/cancer-statistics/incidence/age#heading-Zero\n",
    "https://stackoverflow.com/questions/1155539/how-do-i-generate-a-poisson-process/10250877#10250877\n",
    "https://stackoverflow.com/questions/45747589/copying-a-column-from-one-dataframe-to-another-gives-nan-values\n",
    "\n",
    "https://www.dataquest.io/blog/adding-axis-labels-to-plots-with-pandas-and-matplotlib/\n",
    "https://stackoverflow.com/questions/28135436/concatenate-rows-of-two-dataframes-in-pandas\n",
    "https://www.cancer.gov/about-cancer/understanding/statistics"
   ]
  }
 ],
 "metadata": {
  "kernelspec": {
   "display_name": "Python 3",
   "language": "python",
   "name": "python3"
  },
  "language_info": {
   "codemirror_mode": {
    "name": "ipython",
    "version": 3
   },
   "file_extension": ".py",
   "mimetype": "text/x-python",
   "name": "python",
   "nbconvert_exporter": "python",
   "pygments_lexer": "ipython3",
   "version": "3.6.5"
  }
 },
 "nbformat": 4,
 "nbformat_minor": 2
}
